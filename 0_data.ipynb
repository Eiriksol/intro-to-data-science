{
 "cells": [
  {
   "cell_type": "markdown",
   "metadata": {
    "editable": true,
    "slideshow": {
     "slide_type": ""
    },
    "tags": []
   },
   "source": [
    "# Introduction to data science: data"
   ]
  },
  {
   "cell_type": "markdown",
   "metadata": {
    "editable": true,
    "slideshow": {
     "slide_type": ""
    },
    "tags": []
   },
   "source": [
    "[**This notebook is available on Google Colab.**](https://colab.research.google.com/drive/1U_8I6k80LvgC6bwE6RgRvF6QI0cIdEQK)"
   ]
  },
  {
   "cell_type": "markdown",
   "metadata": {
    "editable": true,
    "slideshow": {
     "slide_type": ""
    },
    "tags": []
   },
   "source": [
    "#### This is a very quick introduction. Time needed: about an hour.\n",
    "\n",
    "We'll explore the Pandas package for simple data handling tasks using geoscience data examples, and we'll follow it up with a quick look at `scikit-learn` for fitting machine learning models and making predictions."
   ]
  },
  {
   "cell_type": "markdown",
   "metadata": {
    "editable": true,
    "slideshow": {
     "slide_type": ""
    },
    "tags": []
   },
   "source": [
    "## Reading a CSV"
   ]
  },
  {
   "cell_type": "markdown",
   "metadata": {
    "editable": true,
    "slideshow": {
     "slide_type": ""
    },
    "tags": []
   },
   "source": [
    "Pandas reads files from disk in tabular form &mdash; [here is a list](https://pandas.pydata.org/docs/user_guide/io.html) of all the formats that it can read and write. A very common format is CSV, so let's load one!\n",
    "\n",
    "Conveniently, you can give `pandas` the CSV in a URL or a file path:"
   ]
  },
  {
   "cell_type": "code",
   "execution_count": 1,
   "metadata": {
    "editable": true,
    "slideshow": {
     "slide_type": ""
    },
    "tags": []
   },
   "outputs": [
    {
     "data": {
      "text/html": [
       "<div>\n",
       "<style scoped>\n",
       "    .dataframe tbody tr th:only-of-type {\n",
       "        vertical-align: middle;\n",
       "    }\n",
       "\n",
       "    .dataframe tbody tr th {\n",
       "        vertical-align: top;\n",
       "    }\n",
       "\n",
       "    .dataframe thead th {\n",
       "        text-align: right;\n",
       "    }\n",
       "</style>\n",
       "<table border=\"1\" class=\"dataframe\">\n",
       "  <thead>\n",
       "    <tr style=\"text-align: right;\">\n",
       "      <th></th>\n",
       "      <th>RPC</th>\n",
       "      <th>Description</th>\n",
       "      <th>Lithology</th>\n",
       "      <th>Vp</th>\n",
       "      <th>Vs</th>\n",
       "      <th>Rho</th>\n",
       "    </tr>\n",
       "  </thead>\n",
       "  <tbody>\n",
       "    <tr>\n",
       "      <th>0</th>\n",
       "      <td>101023</td>\n",
       "      <td>Gray Shale</td>\n",
       "      <td>shale</td>\n",
       "      <td>4953.660011</td>\n",
       "      <td>2957.260132</td>\n",
       "      <td>2.71</td>\n",
       "    </tr>\n",
       "    <tr>\n",
       "      <th>1</th>\n",
       "      <td>100978</td>\n",
       "      <td>Olentangy Shale</td>\n",
       "      <td>shale</td>\n",
       "      <td>3444.658279</td>\n",
       "      <td>2318.002224</td>\n",
       "      <td>2.68</td>\n",
       "    </tr>\n",
       "    <tr>\n",
       "      <th>2</th>\n",
       "      <td>100993</td>\n",
       "      <td>Brown Gas Shale</td>\n",
       "      <td>shale</td>\n",
       "      <td>3507.803917</td>\n",
       "      <td>2218.529940</td>\n",
       "      <td>2.56</td>\n",
       "    </tr>\n",
       "    <tr>\n",
       "      <th>3</th>\n",
       "      <td>101048</td>\n",
       "      <td>Shale 2 (Density is assumed constant)</td>\n",
       "      <td>shale</td>\n",
       "      <td>2988.889933</td>\n",
       "      <td>1633.329988</td>\n",
       "      <td>2.60</td>\n",
       "    </tr>\n",
       "    <tr>\n",
       "      <th>4</th>\n",
       "      <td>100417</td>\n",
       "      <td>Tight gas shale</td>\n",
       "      <td>shale</td>\n",
       "      <td>3642.000000</td>\n",
       "      <td>2221.000000</td>\n",
       "      <td>2.46</td>\n",
       "    </tr>\n",
       "  </tbody>\n",
       "</table>\n",
       "</div>"
      ],
      "text/plain": [
       "      RPC                            Description Lithology           Vp  \\\n",
       "0  101023                             Gray Shale     shale  4953.660011   \n",
       "1  100978                        Olentangy Shale     shale  3444.658279   \n",
       "2  100993                        Brown Gas Shale     shale  3507.803917   \n",
       "3  101048  Shale 2 (Density is assumed constant)     shale  2988.889933   \n",
       "4  100417                        Tight gas shale     shale  3642.000000   \n",
       "\n",
       "            Vs   Rho  \n",
       "0  2957.260132  2.71  \n",
       "1  2318.002224  2.68  \n",
       "2  2218.529940  2.56  \n",
       "3  1633.329988  2.60  \n",
       "4  2221.000000  2.46  "
      ]
     },
     "execution_count": 1,
     "metadata": {},
     "output_type": "execute_result"
    }
   ],
   "source": [
    "import pandas as pd\n",
    "\n",
    "url = \"https://raw.githubusercontent.com/scienxlab/datasets/main/rpc/rpc-3-imbalanced.csv\"\n",
    "df = pd.read_csv(url)\n",
    "df.head()"
   ]
  },
  {
   "cell_type": "code",
   "execution_count": 2,
   "metadata": {
    "editable": true,
    "slideshow": {
     "slide_type": ""
    },
    "tags": [
     "empty"
    ]
   },
   "outputs": [
    {
     "data": {
      "text/plain": [
       "RPC              int64\n",
       "Description     object\n",
       "Lithology       object\n",
       "Vp             float64\n",
       "Vs             float64\n",
       "Rho            float64\n",
       "dtype: object"
      ]
     },
     "execution_count": 2,
     "metadata": {},
     "output_type": "execute_result"
    }
   ],
   "source": [
    "df.dtypes"
   ]
  },
  {
   "cell_type": "markdown",
   "metadata": {
    "editable": true,
    "slideshow": {
     "slide_type": ""
    },
    "tags": [
     "exercise"
    ]
   },
   "source": [
    "<div style=\"background: #e0ffe0; border: solid 2px #d0f0d0; border-radius:3px; padding: 1em; color: darkgreen\">\n",
    "\n",
    "<h3>Let's explore the data</h3>\n",
    "\n",
    "- Get a column, plot a column\n",
    "- Do (vectorized) math on column(s)\n",
    "- Using `df.loc`\n",
    "- Changing the index with `df.set_index()`\n",
    "- Selecting subsets of `df` with `df.loc`\n",
    "- Using `df.describe()` with `include='all'`\n",
    "</div>"
   ]
  },
  {
   "cell_type": "code",
   "execution_count": 3,
   "metadata": {
    "editable": true,
    "slideshow": {
     "slide_type": ""
    },
    "tags": [
     "empty"
    ]
   },
   "outputs": [
    {
     "data": {
      "text/plain": [
       "<Axes: >"
      ]
     },
     "execution_count": 3,
     "metadata": {},
     "output_type": "execute_result"
    },
    {
     "data": {
      "image/png": "[encoded data removed]",
      "text/plain": [
       "<Figure size 640x480 with 1 Axes>"
      ]
     },
     "metadata": {},
     "output_type": "display_data"
    }
   ],
   "source": [
    "df['Vp'].plot()"
   ]
  },
  {
   "cell_type": "code",
   "execution_count": 4,
   "metadata": {
    "editable": true,
    "slideshow": {
     "slide_type": ""
    },
    "tags": [
     "empty"
    ]
   },
   "outputs": [
    {
     "data": {
      "text/plain": [
       "0      4.953660\n",
       "1      3.444658\n",
       "2      3.507804\n",
       "3      2.988890\n",
       "4      3.642000\n",
       "         ...   \n",
       "435    4.625980\n",
       "436    5.446190\n",
       "437    5.446190\n",
       "438    5.347770\n",
       "439    5.347770\n",
       "Name: Vp, Length: 440, dtype: float64"
      ]
     },
     "execution_count": 4,
     "metadata": {},
     "output_type": "execute_result"
    }
   ],
   "source": [
    "df['Vp']/1000"
   ]
  },
  {
   "cell_type": "code",
   "execution_count": 6,
   "metadata": {
    "editable": true,
    "slideshow": {
     "slide_type": ""
    },
    "tags": [
     "empty"
    ]
   },
   "outputs": [
    {
     "data": {
      "text/plain": [
       "Description     Gray Shale\n",
       "Lithology            shale\n",
       "Vp             4953.660011\n",
       "Vs             2957.260132\n",
       "Rho                   2.71\n",
       "Name: 101023, dtype: object"
      ]
     },
     "execution_count": 6,
     "metadata": {},
     "output_type": "execute_result"
    }
   ],
   "source": [
    "df = df.set_index('RPC')\n",
    "df.head()\n",
    "df.loc[101023]"
   ]
  },
  {
   "cell_type": "code",
   "execution_count": 7,
   "metadata": {
    "editable": true,
    "slideshow": {
     "slide_type": ""
    },
    "tags": [
     "empty"
    ]
   },
   "outputs": [
    {
     "data": {
      "text/plain": [
       "np.float64(4953.660011)"
      ]
     },
     "execution_count": 7,
     "metadata": {},
     "output_type": "execute_result"
    }
   ],
   "source": [
    "df.loc[101023]['Vp']"
   ]
  },
  {
   "cell_type": "code",
   "execution_count": 8,
   "metadata": {
    "editable": true,
    "slideshow": {
     "slide_type": ""
    },
    "tags": [
     "empty"
    ]
   },
   "outputs": [
    {
     "data": {
      "text/plain": [
       "Vp    4953.660011\n",
       "Vs    2957.260132\n",
       "Name: 101023, dtype: object"
      ]
     },
     "execution_count": 8,
     "metadata": {},
     "output_type": "execute_result"
    }
   ],
   "source": [
    "df.loc[101023, ['Vp','Vs']]"
   ]
  },
  {
   "cell_type": "code",
   "execution_count": 9,
   "metadata": {
    "editable": true,
    "slideshow": {
     "slide_type": ""
    },
    "tags": [
     "empty"
    ]
   },
   "outputs": [
    {
     "data": {
      "text/html": [
       "<div>\n",
       "<style scoped>\n",
       "    .dataframe tbody tr th:only-of-type {\n",
       "        vertical-align: middle;\n",
       "    }\n",
       "\n",
       "    .dataframe tbody tr th {\n",
       "        vertical-align: top;\n",
       "    }\n",
       "\n",
       "    .dataframe thead th {\n",
       "        text-align: right;\n",
       "    }\n",
       "</style>\n",
       "<table border=\"1\" class=\"dataframe\">\n",
       "  <thead>\n",
       "    <tr style=\"text-align: right;\">\n",
       "      <th></th>\n",
       "      <th>Description</th>\n",
       "      <th>Lithology</th>\n",
       "      <th>Vp</th>\n",
       "      <th>Vs</th>\n",
       "      <th>Rho</th>\n",
       "    </tr>\n",
       "    <tr>\n",
       "      <th>RPC</th>\n",
       "      <th></th>\n",
       "      <th></th>\n",
       "      <th></th>\n",
       "      <th></th>\n",
       "      <th></th>\n",
       "    </tr>\n",
       "  </thead>\n",
       "  <tbody>\n",
       "    <tr>\n",
       "      <th>100738</th>\n",
       "      <td>Beijing Jurassic Shale</td>\n",
       "      <td>shale</td>\n",
       "      <td>5258.460000</td>\n",
       "      <td>2262.080000</td>\n",
       "      <td>2.55</td>\n",
       "    </tr>\n",
       "    <tr>\n",
       "      <th>101108</th>\n",
       "      <td>Oficina Dolomitized Shale</td>\n",
       "      <td>shale</td>\n",
       "      <td>5191.000000</td>\n",
       "      <td>3024.000000</td>\n",
       "      <td>2.78</td>\n",
       "    </tr>\n",
       "    <tr>\n",
       "      <th>101007</th>\n",
       "      <td>Brown Gas Shale</td>\n",
       "      <td>shale</td>\n",
       "      <td>5069.825172</td>\n",
       "      <td>2944.804907</td>\n",
       "      <td>2.56</td>\n",
       "    </tr>\n",
       "    <tr>\n",
       "      <th>100739</th>\n",
       "      <td>Beijing Jurassic Shale</td>\n",
       "      <td>shale</td>\n",
       "      <td>5320.420000</td>\n",
       "      <td>2276.110000</td>\n",
       "      <td>2.55</td>\n",
       "    </tr>\n",
       "    <tr>\n",
       "      <th>101111</th>\n",
       "      <td>Oficina Dolomitized Shale</td>\n",
       "      <td>shale</td>\n",
       "      <td>5244.000000</td>\n",
       "      <td>3040.000000</td>\n",
       "      <td>2.78</td>\n",
       "    </tr>\n",
       "    <tr>\n",
       "      <th>...</th>\n",
       "      <td>...</td>\n",
       "      <td>...</td>\n",
       "      <td>...</td>\n",
       "      <td>...</td>\n",
       "      <td>...</td>\n",
       "    </tr>\n",
       "    <tr>\n",
       "      <th>102279</th>\n",
       "      <td>R.PRICE 10926.5 #48</td>\n",
       "      <td>dolomite</td>\n",
       "      <td>5479.000000</td>\n",
       "      <td>2739.500000</td>\n",
       "      <td>2.56</td>\n",
       "    </tr>\n",
       "    <tr>\n",
       "      <th>102225</th>\n",
       "      <td>R.PRICE 10916.5 #38</td>\n",
       "      <td>dolomite</td>\n",
       "      <td>5446.190000</td>\n",
       "      <td>3116.800000</td>\n",
       "      <td>2.44</td>\n",
       "    </tr>\n",
       "    <tr>\n",
       "      <th>102088</th>\n",
       "      <td>R.PRICE 10883.5 #7</td>\n",
       "      <td>dolomite</td>\n",
       "      <td>5446.190000</td>\n",
       "      <td>2998.690000</td>\n",
       "      <td>2.57</td>\n",
       "    </tr>\n",
       "    <tr>\n",
       "      <th>102213</th>\n",
       "      <td>R.PRICE 10913.5 #35</td>\n",
       "      <td>dolomite</td>\n",
       "      <td>5347.770000</td>\n",
       "      <td>2933.070000</td>\n",
       "      <td>2.44</td>\n",
       "    </tr>\n",
       "    <tr>\n",
       "      <th>102086</th>\n",
       "      <td>R.PRICE 10883.5 #7</td>\n",
       "      <td>dolomite</td>\n",
       "      <td>5347.770000</td>\n",
       "      <td>2896.980000</td>\n",
       "      <td>2.57</td>\n",
       "    </tr>\n",
       "  </tbody>\n",
       "</table>\n",
       "<p>131 rows × 5 columns</p>\n",
       "</div>"
      ],
      "text/plain": [
       "                      Description Lithology           Vp           Vs   Rho\n",
       "RPC                                                                        \n",
       "100738     Beijing Jurassic Shale     shale  5258.460000  2262.080000  2.55\n",
       "101108  Oficina Dolomitized Shale     shale  5191.000000  3024.000000  2.78\n",
       "101007            Brown Gas Shale     shale  5069.825172  2944.804907  2.56\n",
       "100739     Beijing Jurassic Shale     shale  5320.420000  2276.110000  2.55\n",
       "101111  Oficina Dolomitized Shale     shale  5244.000000  3040.000000  2.78\n",
       "...                           ...       ...          ...          ...   ...\n",
       "102279        R.PRICE 10926.5 #48  dolomite  5479.000000  2739.500000  2.56\n",
       "102225        R.PRICE 10916.5 #38  dolomite  5446.190000  3116.800000  2.44\n",
       "102088         R.PRICE 10883.5 #7  dolomite  5446.190000  2998.690000  2.57\n",
       "102213        R.PRICE 10913.5 #35  dolomite  5347.770000  2933.070000  2.44\n",
       "102086         R.PRICE 10883.5 #7  dolomite  5347.770000  2896.980000  2.57\n",
       "\n",
       "[131 rows x 5 columns]"
      ]
     },
     "execution_count": 9,
     "metadata": {},
     "output_type": "execute_result"
    }
   ],
   "source": [
    "df.loc[df['Vp'] > 5000]"
   ]
  },
  {
   "cell_type": "code",
   "execution_count": 10,
   "metadata": {
    "editable": true,
    "slideshow": {
     "slide_type": ""
    },
    "tags": [
     "empty"
    ]
   },
   "outputs": [
    {
     "data": {
      "text/html": [
       "<div>\n",
       "<style scoped>\n",
       "    .dataframe tbody tr th:only-of-type {\n",
       "        vertical-align: middle;\n",
       "    }\n",
       "\n",
       "    .dataframe tbody tr th {\n",
       "        vertical-align: top;\n",
       "    }\n",
       "\n",
       "    .dataframe thead th {\n",
       "        text-align: right;\n",
       "    }\n",
       "</style>\n",
       "<table border=\"1\" class=\"dataframe\">\n",
       "  <thead>\n",
       "    <tr style=\"text-align: right;\">\n",
       "      <th></th>\n",
       "      <th>Vp</th>\n",
       "      <th>Vs</th>\n",
       "    </tr>\n",
       "    <tr>\n",
       "      <th>RPC</th>\n",
       "      <th></th>\n",
       "      <th></th>\n",
       "    </tr>\n",
       "  </thead>\n",
       "  <tbody>\n",
       "    <tr>\n",
       "      <th>100738</th>\n",
       "      <td>5258.460000</td>\n",
       "      <td>2262.080000</td>\n",
       "    </tr>\n",
       "    <tr>\n",
       "      <th>101108</th>\n",
       "      <td>5191.000000</td>\n",
       "      <td>3024.000000</td>\n",
       "    </tr>\n",
       "    <tr>\n",
       "      <th>101007</th>\n",
       "      <td>5069.825172</td>\n",
       "      <td>2944.804907</td>\n",
       "    </tr>\n",
       "    <tr>\n",
       "      <th>100739</th>\n",
       "      <td>5320.420000</td>\n",
       "      <td>2276.110000</td>\n",
       "    </tr>\n",
       "    <tr>\n",
       "      <th>101111</th>\n",
       "      <td>5244.000000</td>\n",
       "      <td>3040.000000</td>\n",
       "    </tr>\n",
       "    <tr>\n",
       "      <th>...</th>\n",
       "      <td>...</td>\n",
       "      <td>...</td>\n",
       "    </tr>\n",
       "    <tr>\n",
       "      <th>102279</th>\n",
       "      <td>5479.000000</td>\n",
       "      <td>2739.500000</td>\n",
       "    </tr>\n",
       "    <tr>\n",
       "      <th>102225</th>\n",
       "      <td>5446.190000</td>\n",
       "      <td>3116.800000</td>\n",
       "    </tr>\n",
       "    <tr>\n",
       "      <th>102088</th>\n",
       "      <td>5446.190000</td>\n",
       "      <td>2998.690000</td>\n",
       "    </tr>\n",
       "    <tr>\n",
       "      <th>102213</th>\n",
       "      <td>5347.770000</td>\n",
       "      <td>2933.070000</td>\n",
       "    </tr>\n",
       "    <tr>\n",
       "      <th>102086</th>\n",
       "      <td>5347.770000</td>\n",
       "      <td>2896.980000</td>\n",
       "    </tr>\n",
       "  </tbody>\n",
       "</table>\n",
       "<p>131 rows × 2 columns</p>\n",
       "</div>"
      ],
      "text/plain": [
       "                 Vp           Vs\n",
       "RPC                             \n",
       "100738  5258.460000  2262.080000\n",
       "101108  5191.000000  3024.000000\n",
       "101007  5069.825172  2944.804907\n",
       "100739  5320.420000  2276.110000\n",
       "101111  5244.000000  3040.000000\n",
       "...             ...          ...\n",
       "102279  5479.000000  2739.500000\n",
       "102225  5446.190000  3116.800000\n",
       "102088  5446.190000  2998.690000\n",
       "102213  5347.770000  2933.070000\n",
       "102086  5347.770000  2896.980000\n",
       "\n",
       "[131 rows x 2 columns]"
      ]
     },
     "execution_count": 10,
     "metadata": {},
     "output_type": "execute_result"
    }
   ],
   "source": [
    "df.loc[df['Vp'] > 5000, ['Vp','Vs']]"
   ]
  },
  {
   "cell_type": "code",
   "execution_count": 11,
   "metadata": {},
   "outputs": [
    {
     "data": {
      "text/html": [
       "<div>\n",
       "<style scoped>\n",
       "    .dataframe tbody tr th:only-of-type {\n",
       "        vertical-align: middle;\n",
       "    }\n",
       "\n",
       "    .dataframe tbody tr th {\n",
       "        vertical-align: top;\n",
       "    }\n",
       "\n",
       "    .dataframe thead th {\n",
       "        text-align: right;\n",
       "    }\n",
       "</style>\n",
       "<table border=\"1\" class=\"dataframe\">\n",
       "  <thead>\n",
       "    <tr style=\"text-align: right;\">\n",
       "      <th></th>\n",
       "      <th>Description</th>\n",
       "      <th>Lithology</th>\n",
       "      <th>Vp</th>\n",
       "      <th>Vs</th>\n",
       "      <th>Rho</th>\n",
       "    </tr>\n",
       "  </thead>\n",
       "  <tbody>\n",
       "    <tr>\n",
       "      <th>count</th>\n",
       "      <td>440</td>\n",
       "      <td>440</td>\n",
       "      <td>440.000000</td>\n",
       "      <td>440.000000</td>\n",
       "      <td>428.000000</td>\n",
       "    </tr>\n",
       "    <tr>\n",
       "      <th>unique</th>\n",
       "      <td>74</td>\n",
       "      <td>3</td>\n",
       "      <td>NaN</td>\n",
       "      <td>NaN</td>\n",
       "      <td>NaN</td>\n",
       "    </tr>\n",
       "    <tr>\n",
       "      <th>top</th>\n",
       "      <td>Shale</td>\n",
       "      <td>shale</td>\n",
       "      <td>NaN</td>\n",
       "      <td>NaN</td>\n",
       "      <td>NaN</td>\n",
       "    </tr>\n",
       "    <tr>\n",
       "      <th>freq</th>\n",
       "      <td>31</td>\n",
       "      <td>200</td>\n",
       "      <td>NaN</td>\n",
       "      <td>NaN</td>\n",
       "      <td>NaN</td>\n",
       "    </tr>\n",
       "    <tr>\n",
       "      <th>mean</th>\n",
       "      <td>NaN</td>\n",
       "      <td>NaN</td>\n",
       "      <td>4241.400263</td>\n",
       "      <td>2404.569500</td>\n",
       "      <td>2.471570</td>\n",
       "    </tr>\n",
       "    <tr>\n",
       "      <th>std</th>\n",
       "      <td>NaN</td>\n",
       "      <td>NaN</td>\n",
       "      <td>1017.116305</td>\n",
       "      <td>623.491742</td>\n",
       "      <td>0.168254</td>\n",
       "    </tr>\n",
       "    <tr>\n",
       "      <th>min</th>\n",
       "      <td>NaN</td>\n",
       "      <td>NaN</td>\n",
       "      <td>1490.711927</td>\n",
       "      <td>839.570000</td>\n",
       "      <td>1.770000</td>\n",
       "    </tr>\n",
       "    <tr>\n",
       "      <th>25%</th>\n",
       "      <td>NaN</td>\n",
       "      <td>NaN</td>\n",
       "      <td>3444.243709</td>\n",
       "      <td>2008.362500</td>\n",
       "      <td>2.387500</td>\n",
       "    </tr>\n",
       "    <tr>\n",
       "      <th>50%</th>\n",
       "      <td>NaN</td>\n",
       "      <td>NaN</td>\n",
       "      <td>4396.045268</td>\n",
       "      <td>2559.060000</td>\n",
       "      <td>2.510000</td>\n",
       "    </tr>\n",
       "    <tr>\n",
       "      <th>75%</th>\n",
       "      <td>NaN</td>\n",
       "      <td>NaN</td>\n",
       "      <td>5150.920000</td>\n",
       "      <td>2858.632148</td>\n",
       "      <td>2.570000</td>\n",
       "    </tr>\n",
       "    <tr>\n",
       "      <th>max</th>\n",
       "      <td>NaN</td>\n",
       "      <td>NaN</td>\n",
       "      <td>5940.000000</td>\n",
       "      <td>3477.690000</td>\n",
       "      <td>2.780000</td>\n",
       "    </tr>\n",
       "  </tbody>\n",
       "</table>\n",
       "</div>"
      ],
      "text/plain": [
       "       Description Lithology           Vp           Vs         Rho\n",
       "count          440       440   440.000000   440.000000  428.000000\n",
       "unique          74         3          NaN          NaN         NaN\n",
       "top          Shale     shale          NaN          NaN         NaN\n",
       "freq            31       200          NaN          NaN         NaN\n",
       "mean           NaN       NaN  4241.400263  2404.569500    2.471570\n",
       "std            NaN       NaN  1017.116305   623.491742    0.168254\n",
       "min            NaN       NaN  1490.711927   839.570000    1.770000\n",
       "25%            NaN       NaN  3444.243709  2008.362500    2.387500\n",
       "50%            NaN       NaN  4396.045268  2559.060000    2.510000\n",
       "75%            NaN       NaN  5150.920000  2858.632148    2.570000\n",
       "max            NaN       NaN  5940.000000  3477.690000    2.780000"
      ]
     },
     "execution_count": 11,
     "metadata": {},
     "output_type": "execute_result"
    }
   ],
   "source": [
    "df.describe(include='all')"
   ]
  },
  {
   "cell_type": "markdown",
   "metadata": {
    "editable": true,
    "slideshow": {
     "slide_type": ""
    },
    "tags": [
     "exercise"
    ]
   },
   "source": [
    "<div style=\"background: #e0ffe0; border: solid 2px #d0f0d0; border-radius:3px; padding: 1em; color: darkgreen\">\n",
    "\n",
    "<h3>Exercise</h3>\n",
    "\n",
    "- Have a quick look at [the Pandas documentation](https://pandas.pydata.org/docs/).\n",
    "- How are the missing values distributed across the lithologies?\n",
    "- The Gardner equation for computing density is given by $\\rho_{\\text{Gardner}} = 0.310 \\times (V_p)^{0.25}$. Define a function that computes the Gardner density, then estimate and put it in a new column called `Rho_Gardner`.\n",
    "- Use `sns.kdeplot()` to compare the distribution of the new column to the actual `Rho` data.\n",
    "    -  EXTRA: You could also use `sns.histplot()`, which gives a slightly different representation. How do they differ, and can you make it closer to the representation from `kdeplot()`? Can you spot any issues with using any of these methods with default parameters?\n",
    "- Fill the empty (NaN) values in density with your computed densities. <a title=\"Use `pd.Series.fillna()` on the 'Rho' column.\"><ins>Hover here for hint</ins>.</a>\n",
    "</div>"
   ]
  },
  {
   "cell_type": "code",
   "execution_count": 12,
   "metadata": {
    "editable": true,
    "slideshow": {
     "slide_type": ""
    },
    "tags": [
     "empty"
    ]
   },
   "outputs": [
    {
     "data": {
      "text/html": [
       "<div>\n",
       "<style scoped>\n",
       "    .dataframe tbody tr th:only-of-type {\n",
       "        vertical-align: middle;\n",
       "    }\n",
       "\n",
       "    .dataframe tbody tr th {\n",
       "        vertical-align: top;\n",
       "    }\n",
       "\n",
       "    .dataframe thead th {\n",
       "        text-align: right;\n",
       "    }\n",
       "</style>\n",
       "<table border=\"1\" class=\"dataframe\">\n",
       "  <thead>\n",
       "    <tr style=\"text-align: right;\">\n",
       "      <th></th>\n",
       "      <th>Description</th>\n",
       "      <th>Lithology</th>\n",
       "      <th>Vp</th>\n",
       "      <th>Vs</th>\n",
       "      <th>Rho</th>\n",
       "      <th>Rho_Gardner</th>\n",
       "    </tr>\n",
       "    <tr>\n",
       "      <th>RPC</th>\n",
       "      <th></th>\n",
       "      <th></th>\n",
       "      <th></th>\n",
       "      <th></th>\n",
       "      <th></th>\n",
       "      <th></th>\n",
       "    </tr>\n",
       "  </thead>\n",
       "  <tbody>\n",
       "    <tr>\n",
       "      <th>101023</th>\n",
       "      <td>Gray Shale</td>\n",
       "      <td>shale</td>\n",
       "      <td>4953.660011</td>\n",
       "      <td>2957.260132</td>\n",
       "      <td>2.71</td>\n",
       "      <td>2.600718</td>\n",
       "    </tr>\n",
       "    <tr>\n",
       "      <th>100978</th>\n",
       "      <td>Olentangy Shale</td>\n",
       "      <td>shale</td>\n",
       "      <td>3444.658279</td>\n",
       "      <td>2318.002224</td>\n",
       "      <td>2.68</td>\n",
       "      <td>2.374916</td>\n",
       "    </tr>\n",
       "    <tr>\n",
       "      <th>100993</th>\n",
       "      <td>Brown Gas Shale</td>\n",
       "      <td>shale</td>\n",
       "      <td>3507.803917</td>\n",
       "      <td>2218.529940</td>\n",
       "      <td>2.56</td>\n",
       "      <td>2.385726</td>\n",
       "    </tr>\n",
       "    <tr>\n",
       "      <th>101048</th>\n",
       "      <td>Shale 2 (Density is assumed constant)</td>\n",
       "      <td>shale</td>\n",
       "      <td>2988.889933</td>\n",
       "      <td>1633.329988</td>\n",
       "      <td>2.60</td>\n",
       "      <td>2.292130</td>\n",
       "    </tr>\n",
       "    <tr>\n",
       "      <th>100417</th>\n",
       "      <td>Tight gas shale</td>\n",
       "      <td>shale</td>\n",
       "      <td>3642.000000</td>\n",
       "      <td>2221.000000</td>\n",
       "      <td>2.46</td>\n",
       "      <td>2.408223</td>\n",
       "    </tr>\n",
       "  </tbody>\n",
       "</table>\n",
       "</div>"
      ],
      "text/plain": [
       "                                  Description Lithology           Vp  \\\n",
       "RPC                                                                    \n",
       "101023                             Gray Shale     shale  4953.660011   \n",
       "100978                        Olentangy Shale     shale  3444.658279   \n",
       "100993                        Brown Gas Shale     shale  3507.803917   \n",
       "101048  Shale 2 (Density is assumed constant)     shale  2988.889933   \n",
       "100417                        Tight gas shale     shale  3642.000000   \n",
       "\n",
       "                 Vs   Rho  Rho_Gardner  \n",
       "RPC                                     \n",
       "101023  2957.260132  2.71     2.600718  \n",
       "100978  2318.002224  2.68     2.374916  \n",
       "100993  2218.529940  2.56     2.385726  \n",
       "101048  1633.329988  2.60     2.292130  \n",
       "100417  2221.000000  2.46     2.408223  "
      ]
     },
     "execution_count": 12,
     "metadata": {},
     "output_type": "execute_result"
    }
   ],
   "source": [
    "def gardners_equation_density(velocity):\n",
    "    return 0.31*velocity**0.25\n",
    "\n",
    "ged = gardners_equation_density(df['Vp'])\n",
    "df['Rho_Gardner'] = ged\n",
    "df.head()"
   ]
  },
  {
   "cell_type": "code",
   "execution_count": 13,
   "metadata": {
    "editable": true,
    "slideshow": {
     "slide_type": ""
    },
    "tags": [
     "empty"
    ]
   },
   "outputs": [
    {
     "data": {
      "text/plain": [
       "<Axes: xlabel='Rho', ylabel='Density'>"
      ]
     },
     "execution_count": 13,
     "metadata": {},
     "output_type": "execute_result"
    },
    {
     "data": {
      "image/png": "[encoded data removed]",
      "text/plain": [
       "<Figure size 640x480 with 1 Axes>"
      ]
     },
     "metadata": {},
     "output_type": "display_data"
    }
   ],
   "source": [
    "import seaborn as sns\n",
    "sns.kdeplot(df['Rho'])\n",
    "sns.kdeplot(df['Rho_Gardner'])"
   ]
  },
  {
   "cell_type": "code",
   "execution_count": 14,
   "metadata": {
    "editable": true,
    "slideshow": {
     "slide_type": ""
    },
    "tags": [
     "empty"
    ]
   },
   "outputs": [
    {
     "data": {
      "text/plain": [
       "<Axes: xlabel='Rho', ylabel='Count'>"
      ]
     },
     "execution_count": 14,
     "metadata": {},
     "output_type": "execute_result"
    },
    {
     "data": {
      "image/png": "[encoded data removed]",
      "text/plain": [
       "<Figure size 640x480 with 1 Axes>"
      ]
     },
     "metadata": {},
     "output_type": "display_data"
    }
   ],
   "source": [
    "sns.histplot(df['Rho'])\n",
    "sns.histplot(df['Rho_Gardner'])"
   ]
  },
  {
   "cell_type": "code",
   "execution_count": 15,
   "metadata": {},
   "outputs": [
    {
     "data": {
      "text/html": [
       "<div>\n",
       "<style scoped>\n",
       "    .dataframe tbody tr th:only-of-type {\n",
       "        vertical-align: middle;\n",
       "    }\n",
       "\n",
       "    .dataframe tbody tr th {\n",
       "        vertical-align: top;\n",
       "    }\n",
       "\n",
       "    .dataframe thead th {\n",
       "        text-align: right;\n",
       "    }\n",
       "</style>\n",
       "<table border=\"1\" class=\"dataframe\">\n",
       "  <thead>\n",
       "    <tr style=\"text-align: right;\">\n",
       "      <th></th>\n",
       "      <th>Description</th>\n",
       "      <th>Lithology</th>\n",
       "      <th>Vp</th>\n",
       "      <th>Vs</th>\n",
       "      <th>Rho</th>\n",
       "      <th>Rho_Gardner</th>\n",
       "    </tr>\n",
       "    <tr>\n",
       "      <th>RPC</th>\n",
       "      <th></th>\n",
       "      <th></th>\n",
       "      <th></th>\n",
       "      <th></th>\n",
       "      <th></th>\n",
       "      <th></th>\n",
       "    </tr>\n",
       "  </thead>\n",
       "  <tbody>\n",
       "    <tr>\n",
       "      <th>101023</th>\n",
       "      <td>Gray Shale</td>\n",
       "      <td>shale</td>\n",
       "      <td>4953.660011</td>\n",
       "      <td>2957.260132</td>\n",
       "      <td>2.71</td>\n",
       "      <td>2.600718</td>\n",
       "    </tr>\n",
       "    <tr>\n",
       "      <th>100978</th>\n",
       "      <td>Olentangy Shale</td>\n",
       "      <td>shale</td>\n",
       "      <td>3444.658279</td>\n",
       "      <td>2318.002224</td>\n",
       "      <td>2.68</td>\n",
       "      <td>2.374916</td>\n",
       "    </tr>\n",
       "    <tr>\n",
       "      <th>100993</th>\n",
       "      <td>Brown Gas Shale</td>\n",
       "      <td>shale</td>\n",
       "      <td>3507.803917</td>\n",
       "      <td>2218.529940</td>\n",
       "      <td>2.56</td>\n",
       "      <td>2.385726</td>\n",
       "    </tr>\n",
       "    <tr>\n",
       "      <th>101048</th>\n",
       "      <td>Shale 2 (Density is assumed constant)</td>\n",
       "      <td>shale</td>\n",
       "      <td>2988.889933</td>\n",
       "      <td>1633.329988</td>\n",
       "      <td>2.60</td>\n",
       "      <td>2.292130</td>\n",
       "    </tr>\n",
       "    <tr>\n",
       "      <th>100417</th>\n",
       "      <td>Tight gas shale</td>\n",
       "      <td>shale</td>\n",
       "      <td>3642.000000</td>\n",
       "      <td>2221.000000</td>\n",
       "      <td>2.46</td>\n",
       "      <td>2.408223</td>\n",
       "    </tr>\n",
       "  </tbody>\n",
       "</table>\n",
       "</div>"
      ],
      "text/plain": [
       "                                  Description Lithology           Vp  \\\n",
       "RPC                                                                    \n",
       "101023                             Gray Shale     shale  4953.660011   \n",
       "100978                        Olentangy Shale     shale  3444.658279   \n",
       "100993                        Brown Gas Shale     shale  3507.803917   \n",
       "101048  Shale 2 (Density is assumed constant)     shale  2988.889933   \n",
       "100417                        Tight gas shale     shale  3642.000000   \n",
       "\n",
       "                 Vs   Rho  Rho_Gardner  \n",
       "RPC                                     \n",
       "101023  2957.260132  2.71     2.600718  \n",
       "100978  2318.002224  2.68     2.374916  \n",
       "100993  2218.529940  2.56     2.385726  \n",
       "101048  1633.329988  2.60     2.292130  \n",
       "100417  2221.000000  2.46     2.408223  "
      ]
     },
     "execution_count": 15,
     "metadata": {},
     "output_type": "execute_result"
    }
   ],
   "source": [
    "df['Rho'] = df['Rho'].fillna(df['Rho_Gardner'])\n",
    "df.head()"
   ]
  },
  {
   "cell_type": "code",
   "execution_count": null,
   "metadata": {},
   "outputs": [
    {
     "data": {
      "text/html": [
       "<div>\n",
       "<style scoped>\n",
       "    .dataframe tbody tr th:only-of-type {\n",
       "        vertical-align: middle;\n",
       "    }\n",
       "\n",
       "    .dataframe tbody tr th {\n",
       "        vertical-align: top;\n",
       "    }\n",
       "\n",
       "    .dataframe thead th {\n",
       "        text-align: right;\n",
       "    }\n",
       "</style>\n",
       "<table border=\"1\" class=\"dataframe\">\n",
       "  <thead>\n",
       "    <tr style=\"text-align: right;\">\n",
       "      <th></th>\n",
       "      <th>Vp</th>\n",
       "      <th>Vs</th>\n",
       "      <th>Rho</th>\n",
       "      <th>Rho_Gardner</th>\n",
       "    </tr>\n",
       "  </thead>\n",
       "  <tbody>\n",
       "    <tr>\n",
       "      <th>count</th>\n",
       "      <td>440.000000</td>\n",
       "      <td>440.000000</td>\n",
       "      <td>440.000000</td>\n",
       "      <td>440.000000</td>\n",
       "    </tr>\n",
       "    <tr>\n",
       "      <th>mean</th>\n",
       "      <td>4241.400263</td>\n",
       "      <td>2404.569500</td>\n",
       "      <td>2.467141</td>\n",
       "      <td>2.486634</td>\n",
       "    </tr>\n",
       "    <tr>\n",
       "      <th>std</th>\n",
       "      <td>1017.116305</td>\n",
       "      <td>623.491742</td>\n",
       "      <td>0.175744</td>\n",
       "      <td>0.161517</td>\n",
       "    </tr>\n",
       "    <tr>\n",
       "      <th>min</th>\n",
       "      <td>1490.711927</td>\n",
       "      <td>839.570000</td>\n",
       "      <td>1.770000</td>\n",
       "      <td>1.926239</td>\n",
       "    </tr>\n",
       "    <tr>\n",
       "      <th>25%</th>\n",
       "      <td>3444.243709</td>\n",
       "      <td>2008.362500</td>\n",
       "      <td>2.370000</td>\n",
       "      <td>2.374844</td>\n",
       "    </tr>\n",
       "    <tr>\n",
       "      <th>50%</th>\n",
       "      <td>4396.045268</td>\n",
       "      <td>2559.060000</td>\n",
       "      <td>2.510000</td>\n",
       "      <td>2.524220</td>\n",
       "    </tr>\n",
       "    <tr>\n",
       "      <th>75%</th>\n",
       "      <td>5150.920000</td>\n",
       "      <td>2858.632148</td>\n",
       "      <td>2.570000</td>\n",
       "      <td>2.626231</td>\n",
       "    </tr>\n",
       "    <tr>\n",
       "      <th>max</th>\n",
       "      <td>5940.000000</td>\n",
       "      <td>3477.690000</td>\n",
       "      <td>2.780000</td>\n",
       "      <td>2.721500</td>\n",
       "    </tr>\n",
       "  </tbody>\n",
       "</table>\n",
       "</div>"
      ],
      "text/plain": [
       "                Vp           Vs         Rho  Rho_Gardner\n",
       "count   440.000000   440.000000  440.000000   440.000000\n",
       "mean   4241.400263  2404.569500    2.467141     2.486634\n",
       "std    1017.116305   623.491742    0.175744     0.161517\n",
       "min    1490.711927   839.570000    1.770000     1.926239\n",
       "25%    3444.243709  2008.362500    2.370000     2.374844\n",
       "50%    4396.045268  2559.060000    2.510000     2.524220\n",
       "75%    5150.920000  2858.632148    2.570000     2.626231\n",
       "max    5940.000000  3477.690000    2.780000     2.721500"
      ]
     },
     "execution_count": 16,
     "metadata": {},
     "output_type": "execute_result"
    }
   ],
   "source": [
    "df.describe()\n",
    "#Now we dont have any NaN values anymore"
   ]
  },
  {
   "cell_type": "markdown",
   "metadata": {
    "editable": true,
    "slideshow": {
     "slide_type": ""
    },
    "tags": []
   },
   "source": [
    "## Visual exploration of the data"
   ]
  },
  {
   "cell_type": "markdown",
   "metadata": {
    "editable": true,
    "slideshow": {
     "slide_type": ""
    },
    "tags": []
   },
   "source": [
    "We can easily visualize the properties of each variable, both individuallt and pairwise, using a `PairPlot`. The library `seaborn` integrates with matplotlib to make these kind of plots easily."
   ]
  },
  {
   "cell_type": "code",
   "execution_count": null,
   "metadata": {
    "editable": true,
    "slideshow": {
     "slide_type": ""
    },
    "tags": []
   },
   "outputs": [],
   "source": [
    "import seaborn as sns\n",
    "\n",
    "sns.pairplot(df)"
   ]
  },
  {
   "cell_type": "code",
   "execution_count": null,
   "metadata": {
    "editable": true,
    "slideshow": {
     "slide_type": ""
    },
    "tags": []
   },
   "outputs": [],
   "source": [
    "sns.pairplot(df,\n",
    "             hue=\"Lithology\",\n",
    "             vars=['Vp','Vs','Rho'])"
   ]
  },
  {
   "cell_type": "markdown",
   "metadata": {
    "editable": true,
    "slideshow": {
     "slide_type": ""
    },
    "tags": []
   },
   "source": [
    "We can have a lot of control over all of the elements in the pair-plot by using the `PairGrid` object."
   ]
  },
  {
   "cell_type": "code",
   "execution_count": null,
   "metadata": {
    "editable": true,
    "slideshow": {
     "slide_type": ""
    },
    "tags": []
   },
   "outputs": [],
   "source": [
    "import matplotlib.pyplot as plt\n",
    "\n",
    "g = sns.PairGrid(df, hue=\"Lithology\", vars=['Vp','Vs','Rho'], height=4)\n",
    "\n",
    "g.map_upper(plt.scatter, alpha=0.4)\n",
    "g.map_lower(plt.scatter, alpha=0.4)\n",
    "g.map_diag(plt.hist, bins=20,)\n",
    "g.add_legend()"
   ]
  },
  {
   "cell_type": "markdown",
   "metadata": {
    "editable": true,
    "slideshow": {
     "slide_type": ""
    },
    "tags": []
   },
   "source": [
    "## Export for machine learning"
   ]
  },
  {
   "cell_type": "markdown",
   "metadata": {
    "editable": true,
    "slideshow": {
     "slide_type": ""
    },
    "tags": [
     "exercise"
    ]
   },
   "source": [
    "<div style=\"background: #e0ffe0; border: solid 2px #d0f0d0; border-radius:3px; padding: 1em; color: darkgreen\">\n",
    "\n",
    "<h3>EXERCISE</h3>\n",
    "\n",
    "Export the following columns to a new CSV, in this order: Rho, Vp, Vs, and Lithology. Some details:\n",
    "\n",
    "- Call the file `mydata.csv`.\n",
    "- Use 3 decimal places for all floats.\n",
    "- Make sure Pandas does not include the RPC catalog numbers.\n",
    "</div>"
   ]
  },
  {
   "cell_type": "code",
   "execution_count": null,
   "metadata": {
    "editable": true,
    "slideshow": {
     "slide_type": ""
    },
    "tags": [
     "empty"
    ]
   },
   "outputs": [],
   "source": []
  },
  {
   "cell_type": "markdown",
   "metadata": {
    "editable": true,
    "slideshow": {
     "slide_type": ""
    },
    "tags": []
   },
   "source": [
    "<hr />\n",
    "\n",
    "<p style=\"color:gray\"> adapted from ©2024 Matt Hall / Equinor. Licensed CC BY.</p>"
   ]
  }
 ],
 "metadata": {
  "anaconda-cloud": {},
  "celltoolbar": "Tags",
  "kernelspec": {
   "display_name": "Python 3",
   "language": "python",
   "name": "python3"
  },
  "language_info": {
   "codemirror_mode": {
    "name": "ipython",
    "version": 3
   },
   "file_extension": ".py",
   "mimetype": "text/x-python",
   "name": "python",
   "nbconvert_exporter": "python",
   "pygments_lexer": "ipython3",
   "version": "3.11.12"
  }
 },
 "nbformat": 4,
 "nbformat_minor": 4
}
